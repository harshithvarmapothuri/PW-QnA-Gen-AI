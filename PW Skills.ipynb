{
 "cells": [
  {
   "cell_type": "markdown",
   "id": "4332e2d3-1d72-489a-a6c7-3b9b194b74fa",
   "metadata": {},
   "source": [
    "# PW Skills Assignment answering using GenAI (Langchain LLM's)"
   ]
  },
  {
   "cell_type": "markdown",
   "id": "e3eea48d-cb93-4213-8d60-d2262da44983",
   "metadata": {},
   "source": [
    "## Import Required Libraries"
   ]
  },
  {
   "cell_type": "code",
   "execution_count": 1,
   "id": "a51812ce-7bd0-4600-b1ad-4749a0d7113b",
   "metadata": {},
   "outputs": [
    {
     "name": "stderr",
     "output_type": "stream",
     "text": [
      "/opt/conda/lib/python3.10/site-packages/langchain_core/_api/deprecation.py:117: LangChainDeprecationWarning: The class `langchain_community.llms.openai.OpenAI` was deprecated in langchain-community 0.0.10 and will be removed in 0.2.0. An updated version of the class exists in the langchain-openai package and should be used instead. To use it run `pip install -U langchain-openai` and import as `from langchain_openai import OpenAI`.\n",
      "  warn_deprecated(\n"
     ]
    }
   ],
   "source": [
    "from langchain.llms import OpenAI\n",
    "import os\n",
    "os.environ[\"OPENAI_API_KEY\"]=\"ur key\"\n",
    "llm=OpenAI(openai_api_key=os.environ[\"OPENAI_API_KEY\"],temperature=0.2,top_p=0)"
   ]
  },
  {
   "cell_type": "markdown",
   "id": "d7537f5c-56de-4fc9-a1e5-c246d9a5340b",
   "metadata": {},
   "source": [
    "## Load the PDF and read it"
   ]
  },
  {
   "cell_type": "code",
   "execution_count": 2,
   "id": "9fae3a9e-67b4-4e20-acc2-548ae91f5577",
   "metadata": {},
   "outputs": [],
   "source": [
    "from langchain.document_loaders import PyPDFLoader"
   ]
  },
  {
   "cell_type": "code",
   "execution_count": 3,
   "id": "c332a5e2-bee2-4b31-be78-ca910e28c733",
   "metadata": {},
   "outputs": [],
   "source": [
    "pdf=PyPDFLoader(\"QnA.PDF\")"
   ]
  },
  {
   "cell_type": "code",
   "execution_count": 4,
   "id": "4d01fd80-d859-402b-a1d8-5bc3eb9866f2",
   "metadata": {},
   "outputs": [],
   "source": [
    "pages=pdf.load()"
   ]
  },
  {
   "cell_type": "code",
   "execution_count": 5,
   "id": "0c149596-077a-4b76-a22c-33d0ecd7ae6e",
   "metadata": {},
   "outputs": [
    {
     "data": {
      "text/plain": [
       "\"Q1. What are the characteristics of the tuples? Is tuple immutable?Q2. What are the two tuple methods in python? Give an example of each method. Give a reason why \\ntuples have only two in-built methods as compared to Lists.Q3. \\xa0Which collection datatypes in python do not allow duplicate items? Write a code using a set to remove \\nduplicates from the given list.\\n\\nList = [1, 1, 1, 2, 1, 3, 1, 4, 2, 1, 2, 2, 2, 3, 2, 4, 3, 1, 3, 2, 3, 3, 3, 4, 4, 1, 4, 2, 4, 3, 4, 4]Q4. Explain the difference between the union() and update() methods for a set. Give an example of \\neach method.Q5. What is a dictionary? Give an example. Also, state whether a dictionary is ordered or unordered.Q6. Can we create a nested dictionary? If so, please give an example by creating a simple one-level \\nnested dictionary.Q7. Using setdefault() method, create key named topics in the given dictionary and also add the value of \\nthe key as this list ['Python', 'Machine Learning’, 'Deep Learning']\\n\\ndict1 = {'language' : 'Python', 'course': 'Data Science Masters'}Q 8 . What are the three view ob j ects in dictionaries? Use the three in-built methods in python to display \\nthese three view ob j ects for the given dictionary.\\n\\ndict1 = {'Sport': 'Cricket' , ' T eams': ['India', 'Australia', 'England', 'South Africa', 'Sri Lanka', ' N ew Z ealand']}N ote:  Create your assignment in Jupyter notebook and upload it in GitHub & share that github  \\n          repository link through your dashboard.A s s ignment\\nData Science Masters\""
      ]
     },
     "execution_count": 5,
     "metadata": {},
     "output_type": "execute_result"
    }
   ],
   "source": [
    "vals=\"\"\n",
    "for i in range(len(pages)):\n",
    "    vals=vals+pages[i].page_content\n",
    "vals"
   ]
  },
  {
   "cell_type": "code",
   "execution_count": 6,
   "id": "d583417c-9aa6-4d8a-8c62-d6a09d624a09",
   "metadata": {},
   "outputs": [
    {
     "data": {
      "text/plain": [
       "['',\n",
       " '1. What are the characteristics of the tuples? Is tuple immutable?',\n",
       " '2. What are the two tuple methods in python? Give an example of each method. Give a reason why \\ntuples have only two in-built methods as compared to Lists.',\n",
       " '3. \\xa0Which collection datatypes in python do not allow duplicate items? Write a code using a set to remove \\nduplicates from the given list.\\n\\nList = [1, 1, 1, 2, 1, 3, 1, 4, 2, 1, 2, 2, 2, 3, 2, 4, 3, 1, 3, 2, 3, 3, 3, 4, 4, 1, 4, 2, 4, 3, 4, 4]',\n",
       " '4. Explain the difference between the union() and update() methods for a set. Give an example of \\neach method.',\n",
       " '5. What is a dictionary? Give an example. Also, state whether a dictionary is ordered or unordered.',\n",
       " '6. Can we create a nested dictionary? If so, please give an example by creating a simple one-level \\nnested dictionary.',\n",
       " \"7. Using setdefault() method, create key named topics in the given dictionary and also add the value of \\nthe key as this list ['Python', 'Machine Learning’, 'Deep Learning']\\n\\ndict1 = {'language' : 'Python', 'course': 'Data Science Masters'}\",\n",
       " \" 8 . What are the three view ob j ects in dictionaries? Use the three in-built methods in python to display \\nthese three view ob j ects for the given dictionary.\\n\\ndict1 = {'Sport': 'Cricket' , ' T eams': ['India', 'Australia', 'England', 'South Africa', 'Sri Lanka', ' N ew Z ealand']}N ote:  Create your assignment in Jupyter notebook and upload it in GitHub & share that github  \\n          repository link through your dashboard.A s s ignment\\nData Science Masters\"]"
      ]
     },
     "execution_count": 6,
     "metadata": {},
     "output_type": "execute_result"
    }
   ],
   "source": [
    "vals.split(\"Q\")"
   ]
  },
  {
   "cell_type": "markdown",
   "id": "5cd50d78-b62d-4e8c-b6d5-74126e5f32d3",
   "metadata": {},
   "source": [
    "## Split the Questions as small Chunks"
   ]
  },
  {
   "cell_type": "code",
   "execution_count": 7,
   "id": "af430b20-18d1-4230-aca9-9b234693c15c",
   "metadata": {},
   "outputs": [],
   "source": [
    "from langchain.text_splitter import RecursiveCharacterTextSplitter"
   ]
  },
  {
   "cell_type": "code",
   "execution_count": 8,
   "id": "0312b5b7-226d-44fe-b7a2-30c1d3953867",
   "metadata": {},
   "outputs": [],
   "source": [
    "split=RecursiveCharacterTextSplitter(\n",
    "separators=[\"Q\",\"N ote\"],\n",
    "chunk_size=200\n",
    ")"
   ]
  },
  {
   "cell_type": "code",
   "execution_count": 9,
   "id": "7544fa1d-8674-4b69-b8a1-9204056f6c5f",
   "metadata": {},
   "outputs": [],
   "source": [
    "lis=split.split_text(vals)"
   ]
  },
  {
   "cell_type": "code",
   "execution_count": 10,
   "id": "38fc027c-f751-4628-9e20-8c516d4d5dce",
   "metadata": {},
   "outputs": [
    {
     "data": {
      "text/plain": [
       "['Q1. What are the characteristics of the tuples? Is tuple immutable?',\n",
       " 'Q2. What are the two tuple methods in python? Give an example of each method. Give a reason why \\ntuples have only two in-built methods as compared to Lists.',\n",
       " 'Q3. \\xa0Which collection datatypes in python do not allow duplicate items? Write a code using a set to remove \\nduplicates from the given list.\\n\\nList = [1, 1, 1, 2, 1, 3, 1, 4, 2, 1, 2, 2, 2, 3, 2, 4, 3, 1, 3, 2, 3, 3, 3, 4, 4, 1, 4, 2, 4, 3, 4, 4]',\n",
       " 'Q4. Explain the difference between the union() and update() methods for a set. Give an example of \\neach method.',\n",
       " 'Q5. What is a dictionary? Give an example. Also, state whether a dictionary is ordered or unordered.',\n",
       " 'Q6. Can we create a nested dictionary? If so, please give an example by creating a simple one-level \\nnested dictionary.',\n",
       " \"Q7. Using setdefault() method, create key named topics in the given dictionary and also add the value of \\nthe key as this list ['Python', 'Machine Learning’, 'Deep Learning']\\n\\ndict1 = {'language' : 'Python', 'course': 'Data Science Masters'}\",\n",
       " \"Q 8 . What are the three view ob j ects in dictionaries? Use the three in-built methods in python to display \\nthese three view ob j ects for the given dictionary.\\n\\ndict1 = {'Sport': 'Cricket' , ' T eams': ['India', 'Australia', 'England', 'South Africa', 'Sri Lanka', ' N ew Z ealand']}\"]"
      ]
     },
     "execution_count": 10,
     "metadata": {},
     "output_type": "execute_result"
    }
   ],
   "source": [
    "for i in lis:\n",
    "    if i[0]!=\"Q\":\n",
    "        lis.remove(i)\n",
    "lis"
   ]
  },
  {
   "cell_type": "markdown",
   "id": "0f9415e1-c37c-4931-965a-5a7e0ae3a0a1",
   "metadata": {},
   "source": [
    "## Prompt to get answers"
   ]
  },
  {
   "cell_type": "code",
   "execution_count": 11,
   "id": "3b377749-2f46-477d-86e6-0f7c9622c9ff",
   "metadata": {},
   "outputs": [
    {
     "name": "stdout",
     "output_type": "stream",
     "text": [
      "Q1. What are the characteristics of the tuples? Is tuple immutable?\n",
      "\n",
      "Answer is:\n",
      "\n",
      "    Tuples are a type of data structure in Python that are similar to lists, but with a few key differences. The main characteristic of tuples is that they are immutable, meaning they cannot be modified or changed after they are created. This is because tuples are stored in a fixed size and cannot be resized. Another characteristic of tuples is that they are ordered, meaning the elements are stored in a specific order and can be accessed by their index. Tuples can also contain any type of data, including other tuples. Overall, tuples are useful for storing data that should not be changed, such as constants or configuration settings.\n",
      "\n",
      "\n",
      "\n",
      "\n",
      "Q2. What are the two tuple methods in python? Give an example of each method. Give a reason why \n",
      "tuples have only two in-built methods as compared to Lists.\n",
      "\n",
      "Answer is:\n",
      "\n",
      "The two tuple methods in python are count() and index(). The count() method returns the number of times a specified element appears in a tuple, while the index() method returns the index of the first occurrence of a specified element. For example, if we have a tuple named \"fruits\" with elements \"apple, banana, cherry, apple\", fruits.count(\"apple\") will return 2 and fruits.index(\"cherry\") will return 2.\n",
      "\n",
      "Tuples have only two in-built methods as compared to lists because tuples are immutable, meaning they cannot be modified. This makes it unnecessary to have methods like append() or remove() that modify the tuple. The two methods provided for tuples are sufficient for basic operations like counting and finding elements. Additionally, having fewer methods makes tuples more efficient and faster to process compared to lists, which have more methods and can be modified.\n",
      "\n",
      "\n",
      "\n",
      "\n",
      "Q3.  Which collection datatypes in python do not allow duplicate items? Write a code using a set to remove \n",
      "duplicates from the given list.\n",
      "\n",
      "List = [1, 1, 1, 2, 1, 3, 1, 4, 2, 1, 2, 2, 2, 3, 2, 4, 3, 1, 3, 2, 3, 3, 3, 4, 4, 1, 4, 2, 4, 3, 4, 4]\n",
      "\n",
      "Answer is:\n",
      "\n",
      "The collection datatype in python that does not allow duplicate items is a set. A set is an unordered collection of unique elements. It is defined by curly braces and can be created by passing a list as an argument to the set() function. To remove duplicates from the given list, we can simply convert the list into a set using the set() function. This will automatically remove all the duplicate elements. Then, we can convert the set back to a list using the list() function to get the list without any duplicate items. The code for this would be:\n",
      "\n",
      "List = [1, 1, 1, 2, 1, 3, 1, 4, 2, 1, 2, 2, 2, 3, 2, 4, 3, 1, 3, 2, 3, 3, 3, 4, 4, 1, 4, 2, 4, 3, 4, 4]\n",
      "List = list(set(List))\n",
      "print(List)\n",
      "\n",
      "The output of this code would be [1, 2, 3, 4], which is the list without any duplicate items.\n",
      "\n",
      "\n",
      "\n",
      "\n",
      "Q4. Explain the difference between the union() and update() methods for a set. Give an example of \n",
      "each method.\n",
      "\n",
      "Answer is:\n",
      "\n",
      "The union() method combines two sets and returns a new set with all the unique elements from both sets. It does not modify the original sets. For example, if we have two sets A = {1, 2, 3} and B = {3, 4, 5}, the union of these two sets would be {1, 2, 3, 4, 5}. On the other hand, the update() method modifies the original set by adding all the elements from another set to it. Using the same example, if we update set A with the elements from set B, the resulting set would be {1, 2, 3, 4, 5}. In summary, union() creates a new set while update() modifies an existing set.\n",
      "\n",
      "\n",
      "\n",
      "\n",
      "Q5. What is a dictionary? Give an example. Also, state whether a dictionary is ordered or unordered.\n",
      "\n",
      "Answer is:\n",
      "\n",
      "    A dictionary in Python is a data structure that stores key-value pairs. It is similar to a real-life dictionary where words (keys) are associated with their definitions (values). An example of a dictionary in Python would be a phonebook, where the names of people are the keys and their phone numbers are the values. Dictionaries are unordered, meaning that the items are not stored in a specific order and cannot be accessed by index. Instead, they are accessed by their keys. This allows for efficient lookup and retrieval of data. However, in Python 3.7 and above, dictionaries are guaranteed to maintain insertion order.\n",
      "\n",
      "\n",
      "\n",
      "\n",
      "Q6. Can we create a nested dictionary? If so, please give an example by creating a simple one-level \n",
      "nested dictionary.\n",
      "\n",
      "Answer is:\n",
      "\n",
      "    Yes, we can create a nested dictionary in Python. A nested dictionary is a dictionary within another dictionary. It allows us to store data in a hierarchical structure, making it easier to access and manipulate. To create a nested dictionary, we can simply assign a dictionary as a value to a key in another dictionary. For example, we can create a one-level nested dictionary to store information about a person's name, age, and address. The code for this would be: \n",
      "    person = {\n",
      "        \"name\": \"John\",\n",
      "        \"age\": 25,\n",
      "        \"address\": {\n",
      "            \"street\": \"123 Main St\",\n",
      "            \"city\": \"New York\",\n",
      "            \"state\": \"NY\"\n",
      "        }\n",
      "    }\n",
      "    In this example, the \"address\" key has a dictionary as its value, making it a nested dictionary. We can access the nested dictionary's values by using multiple keys, such as person[\"address\"][\"city\"] which would return \"New York\". \n",
      "\n",
      "\n",
      "\n",
      "\n",
      "Q7. Using setdefault() method, create key named topics in the given dictionary and also add the value of \n",
      "the key as this list ['Python', 'Machine Learning’, 'Deep Learning']\n",
      "\n",
      "dict1 = {'language' : 'Python', 'course': 'Data Science Masters'}\n",
      "\n",
      "Answer is:\n",
      "\n",
      "The setdefault() method in Python is used to insert a key with a default value into a dictionary. In this case, we can use the setdefault() method to create a new key named 'topics' in the given dictionary and assign it a value of ['Python', 'Machine Learning', 'Deep Learning']. This can be done by using the syntax dict1.setdefault('topics', ['Python', 'Machine Learning', 'Deep Learning']). If the 'topics' key already exists in the dictionary, the setdefault() method will not change its value. However, if the key does not exist, it will be created and assigned the specified default value. This is a useful method for adding new keys and values to a dictionary in a single line of code.\n",
      "\n",
      "\n",
      "\n",
      "\n",
      "Q 8 . What are the three view ob j ects in dictionaries? Use the three in-built methods in python to display \n",
      "these three view ob j ects for the given dictionary.\n",
      "\n",
      "dict1 = {'Sport': 'Cricket' , ' T eams': ['India', 'Australia', 'England', 'South Africa', 'Sri Lanka', ' N ew Z ealand']}\n",
      "\n",
      "Answer is:\n",
      "\n",
      "The three view objects in dictionaries are keys, values, and items. The keys view object contains all the keys in the dictionary, the values view object contains all the values in the dictionary, and the items view object contains all the key-value pairs in the dictionary. To display these view objects, we can use the in-built methods keys(), values(), and items() respectively. For the given dictionary, we can use dict1.keys() to display the keys view object, dict1.values() to display the values view object, and dict1.items() to display the items view object. These methods are useful for accessing and manipulating the data in dictionaries.\n",
      "\n",
      "\n",
      "\n",
      "\n"
     ]
    }
   ],
   "source": [
    "for i in lis:\n",
    "    res=llm.invoke(\n",
    "    f\"\"\"\n",
    "    You are an expert in Python Programming, and will be given with a Python Question.\n",
    "    Read the python question carefully and answer it in 100 words.\n",
    "    question : {i}\n",
    "    \"\"\"\n",
    "    )\n",
    "    print(i)\n",
    "    print()\n",
    "    print(\"Answer is:\")\n",
    "    print(res)\n",
    "    print(\"\\n\\n\\n\")"
   ]
  }
 ],
 "metadata": {
  "kernelspec": {
   "display_name": "Python 3 (ipykernel)",
   "language": "python",
   "name": "python3"
  },
  "language_info": {
   "codemirror_mode": {
    "name": "ipython",
    "version": 3
   },
   "file_extension": ".py",
   "mimetype": "text/x-python",
   "name": "python",
   "nbconvert_exporter": "python",
   "pygments_lexer": "ipython3",
   "version": "3.10.8"
  }
 },
 "nbformat": 4,
 "nbformat_minor": 5
}
